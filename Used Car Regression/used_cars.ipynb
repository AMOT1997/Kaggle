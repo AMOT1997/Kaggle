{
 "cells": [
  {
   "cell_type": "markdown",
   "metadata": {},
   "source": [
    "# This notebook is for the Used Car Regression Analysis\n",
    "    - Your Goal: The goal of this competition is to predict the price of used cars based on various attributes."
   ]
  },
  {
   "cell_type": "code",
   "execution_count": 12,
   "metadata": {},
   "outputs": [],
   "source": [
    "import pandas as pd\n",
    "import numpy as np\n",
    "from sklearn.tree import DecisionTreeRegressor"
   ]
  },
  {
   "cell_type": "code",
   "execution_count": 13,
   "metadata": {},
   "outputs": [],
   "source": [
    "car_test = pd.read_csv('train.csv')"
   ]
  },
  {
   "cell_type": "markdown",
   "metadata": {},
   "source": [
    "### Features of interest \n",
    "    - model year: make it buckets\n",
    "    - mileage: continuous\n",
    "    - fuel type: impute tesla for electric\n",
    "    - accident: Y/N\n",
    "    - clean title: Y/N"
   ]
  },
  {
   "cell_type": "code",
   "execution_count": 14,
   "metadata": {},
   "outputs": [
    {
     "data": {
      "text/plain": [
       "Index(['id', 'brand', 'model', 'model_year', 'milage', 'fuel_type', 'engine',\n",
       "       'transmission', 'ext_col', 'int_col', 'accident', 'clean_title',\n",
       "       'price'],\n",
       "      dtype='object')"
      ]
     },
     "execution_count": 14,
     "metadata": {},
     "output_type": "execute_result"
    }
   ],
   "source": [
    "car_test.columns"
   ]
  },
  {
   "cell_type": "code",
   "execution_count": 15,
   "metadata": {},
   "outputs": [],
   "source": [
    "car_test['fuel_type'] = car_test['fuel_type'].fillna('Electric')"
   ]
  },
  {
   "cell_type": "code",
   "execution_count": 17,
   "metadata": {},
   "outputs": [],
   "source": [
    "car_test['Accident_YN'] = None\n",
    "\n",
    "for i in range(len(car_test)):\n",
    "    if car_test.loc[i, 'accident'] == 'None reported':\n",
    "        car_test.loc[i, 'Accident_YN'] = 'N'\n",
    "    elif car_test.loc[i, 'accident'] == 'At least 1 accident or damage reported':\n",
    "        car_test.loc[i, 'Accident_YN'] = 'Y'\n",
    "    elif car_test.loc[i, 'accident'] is None and car_test.loc[i, 'clean_title'] == 'Yes':\n",
    "        car_test.loc[i, 'Accident_YN'] = 'N'\n",
    "    elif car_test.loc[i, 'accident'] is None and car_test.loc[i, 'clean_title'] is None:\n",
    "        car_test.loc[i, 'Accident_YN'] = 'Y'\n"
   ]
  },
  {
   "cell_type": "code",
   "execution_count": null,
   "metadata": {},
   "outputs": [],
   "source": []
  }
 ],
 "metadata": {
  "kernelspec": {
   "display_name": "Python 3",
   "language": "python",
   "name": "python3"
  },
  "language_info": {
   "codemirror_mode": {
    "name": "ipython",
    "version": 3
   },
   "file_extension": ".py",
   "mimetype": "text/x-python",
   "name": "python",
   "nbconvert_exporter": "python",
   "pygments_lexer": "ipython3",
   "version": "3.8.8"
  }
 },
 "nbformat": 4,
 "nbformat_minor": 2
}
